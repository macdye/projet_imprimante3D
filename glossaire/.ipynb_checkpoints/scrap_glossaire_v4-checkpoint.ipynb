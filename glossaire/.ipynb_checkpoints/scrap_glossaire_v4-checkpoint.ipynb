{
 "cells": [
  {
   "cell_type": "code",
   "execution_count": 1,
   "metadata": {},
   "outputs": [],
   "source": [
    "import pandas as pd\n",
    "from bs4 import BeautifulSoup\n",
    "import urllib.request"
   ]
  },
  {
   "cell_type": "code",
   "execution_count": 2,
   "metadata": {},
   "outputs": [],
   "source": [
    "url = 'https://www.sculpteo.com/fr/glossaire/'\n",
    "page = urllib.request.urlopen(url)\n",
    "soup = BeautifulSoup(page, 'html.parser')"
   ]
  },
  {
   "cell_type": "code",
   "execution_count": 3,
   "metadata": {},
   "outputs": [],
   "source": [
    "rows = soup.find_all('div',attrs={'class':'elementor-row'})\n",
    "keys =[]\n",
    "definitions=[]\n",
    "words=[]\n",
    "\n",
    "i = 0\n",
    "for row in rows:\n",
    "    columns = row.find_all('div', attrs={'class':'elementor-column-wrap elementor-element-populated'})\n",
    "    for column in columns:\n",
    "        links = column.find_all('a')\n",
    "        for link in links:\n",
    "            a = link.text.strip()\n",
    "            if i < 27:\n",
    "                keys.append(a)\n",
    "                i +=1\n",
    "            else:\n",
    "                url = link['href']\n",
    "                p = urllib.request.urlopen(url)\n",
    "                soupe = BeautifulSoup(p, 'html.parser')\n",
    "                text = soupe.find_all('div', attrs={'class':'elementor-section-wrap'})\n",
    "                for t in text:\n",
    "                    paraph = t.text.replace('\\n',' ')\n",
    "                    definitions.append(paraph)\n",
    "                dict_words = {}\n",
    "                dict_words['word'] = a\n",
    "                words.append(dict_words)"
   ]
  },
  {
   "cell_type": "code",
   "execution_count": 4,
   "metadata": {},
   "outputs": [
    {
     "name": "stdout",
     "output_type": "stream",
     "text": [
      "27\n",
      "96\n",
      "96\n"
     ]
    }
   ],
   "source": [
    "print(len(keys))\n",
    "print(len(words))\n",
    "print(len(definitions))"
   ]
  },
  {
   "cell_type": "code",
   "execution_count": 5,
   "metadata": {},
   "outputs": [],
   "source": [
    "def clean_def(list_element = list, empty_list = list):\n",
    "    spliter = []\n",
    "    for i in list_element:\n",
    "        a = i.split('  ')\n",
    "        spliter.append(a)\n",
    "    for i in spliter:\n",
    "        beh = []\n",
    "        for a in i:\n",
    "            if len(a) > 1:\n",
    "                beh.append(a)\n",
    "        empty_list.append(beh)"
   ]
  },
  {
   "cell_type": "code",
   "execution_count": 6,
   "metadata": {},
   "outputs": [],
   "source": [
    "result = []\n",
    "clean_def(definitions,result)"
   ]
  },
  {
   "cell_type": "code",
   "execution_count": 7,
   "metadata": {},
   "outputs": [],
   "source": [
    "def cut_text(list_element = list, empty_list = list):\n",
    "    for thing in list_element:\n",
    "        try:\n",
    "            n = thing.index('Pages de glossaire connexes')\n",
    "            pass\n",
    "        except ValueError:\n",
    "            pass\n",
    "        empty_list.append(thing[:n])"
   ]
  },
  {
   "cell_type": "code",
   "execution_count": 8,
   "metadata": {},
   "outputs": [],
   "source": [
    "text=[]\n",
    "cut_text(result, text)"
   ]
  },
  {
   "cell_type": "code",
   "execution_count": 9,
   "metadata": {},
   "outputs": [],
   "source": [
    "def make_dict(list_of_element = list, empty_list = list):\n",
    "    for i in list_of_element:\n",
    "        res = {}\n",
    "        a = len(i)//2\n",
    "        res['part01'] = i[:a]\n",
    "        res['part02'] = i[a:]\n",
    "        empty_list.append(res)\n",
    "def suppr_list_type(liste = list):\n",
    "    for i in liste:\n",
    "        if type(i['part01']) == list:\n",
    "            i['part01'] = ','.join(i['part01'])\n",
    "            i['part02'] = ','.join(i['part02'])\n",
    "        else:\n",
    "            pass"
   ]
  },
  {
   "cell_type": "code",
   "execution_count": 10,
   "metadata": {},
   "outputs": [],
   "source": [
    "text_dict = []\n",
    "make_dict(text, text_dict)\n",
    "suppr_list_type(text_dict)"
   ]
  },
  {
   "cell_type": "code",
   "execution_count": 11,
   "metadata": {},
   "outputs": [
    {
     "data": {
      "text/plain": [
       "96"
      ]
     },
     "execution_count": 11,
     "metadata": {},
     "output_type": "execute_result"
    }
   ],
   "source": [
    "len(text_dict)"
   ]
  },
  {
   "cell_type": "code",
   "execution_count": 12,
   "metadata": {},
   "outputs": [
    {
     "data": {
      "text/html": [
       "<div>\n",
       "<style scoped>\n",
       "    .dataframe tbody tr th:only-of-type {\n",
       "        vertical-align: middle;\n",
       "    }\n",
       "\n",
       "    .dataframe tbody tr th {\n",
       "        vertical-align: top;\n",
       "    }\n",
       "\n",
       "    .dataframe thead th {\n",
       "        text-align: right;\n",
       "    }\n",
       "</style>\n",
       "<table border=\"1\" class=\"dataframe\">\n",
       "  <thead>\n",
       "    <tr style=\"text-align: right;\">\n",
       "      <th></th>\n",
       "      <th>word</th>\n",
       "      <th>part01</th>\n",
       "      <th>part02</th>\n",
       "    </tr>\n",
       "  </thead>\n",
       "  <tbody>\n",
       "    <tr>\n",
       "      <th>0</th>\n",
       "      <td>3D Bioprinting</td>\n",
       "      <td>Bio-impression 3D (Bioprinting) : Impression ...</td>\n",
       "      <td>Le 3D bioprinting est l’impression de tissus e...</td>\n",
       "    </tr>\n",
       "    <tr>\n",
       "      <th>1</th>\n",
       "      <td>3D File</td>\n",
       "      <td>Fichier 3D pour impression 3D</td>\n",
       "      <td>Un fichier 3D est un fichier électronique rep...</td>\n",
       "    </tr>\n",
       "    <tr>\n",
       "      <th>2</th>\n",
       "      <td>3D Model</td>\n",
       "      <td>Modèle 3D et modèle CAO</td>\n",
       "      <td>Le modèle 3D d’un objet est sa représentation...</td>\n",
       "    </tr>\n",
       "    <tr>\n",
       "      <th>3</th>\n",
       "      <td>3D Modeling</td>\n",
       "      <td>Modélisation 3D, La modélisation 3D est une t...</td>\n",
       "      <td>Modélisation polygonale Curve modeling Sculptu...</td>\n",
       "    </tr>\n",
       "    <tr>\n",
       "      <th>4</th>\n",
       "      <td>3D Modeling Program</td>\n",
       "      <td>Logiciel de modélisation 3D pour l'Impression...</td>\n",
       "      <td>Inventor,Alias, Solidworks,Si vous travaillez...</td>\n",
       "    </tr>\n",
       "    <tr>\n",
       "      <th>...</th>\n",
       "      <td>...</td>\n",
       "      <td>...</td>\n",
       "      <td>...</td>\n",
       "    </tr>\n",
       "    <tr>\n",
       "      <th>91</th>\n",
       "      <td>Thermoplastique</td>\n",
       "      <td>Thermoplastique pour l'impression 3D</td>\n",
       "      <td>Le thermoplastique est un polymère qui se ramo...</td>\n",
       "    </tr>\n",
       "    <tr>\n",
       "      <th>92</th>\n",
       "      <td>Triple Jetting</td>\n",
       "      <td>Triple Jetting: Technologie d'impression 3D P...</td>\n",
       "      <td>Triple injection (Polyjet) La triple injectio...</td>\n",
       "    </tr>\n",
       "    <tr>\n",
       "      <th>93</th>\n",
       "      <td>Usinage</td>\n",
       "      <td>Usinage : technique de fabrication par retrai...</td>\n",
       "      <td>L’usinage regroupe un grand nombre de techniqu...</td>\n",
       "    </tr>\n",
       "    <tr>\n",
       "      <th>94</th>\n",
       "      <td>Vitesse d’impression</td>\n",
       "      <td>Vitesse d'impression 3D</td>\n",
       "      <td>La vitesse d’impression 3D correspond à la ha...</td>\n",
       "    </tr>\n",
       "    <tr>\n",
       "      <th>95</th>\n",
       "      <td>Volume d’impression</td>\n",
       "      <td>Volume d'impression 3D, Le volume d’impressio...</td>\n",
       "      <td>300 x 300 x 500 mm,Céramique,Taille maximum,3...</td>\n",
       "    </tr>\n",
       "  </tbody>\n",
       "</table>\n",
       "<p>96 rows × 3 columns</p>\n",
       "</div>"
      ],
      "text/plain": [
       "                    word                                             part01  \\\n",
       "0         3D Bioprinting   Bio-impression 3D (Bioprinting) : Impression ...   \n",
       "1                3D File                      Fichier 3D pour impression 3D   \n",
       "2               3D Model                            Modèle 3D et modèle CAO   \n",
       "3            3D Modeling   Modélisation 3D, La modélisation 3D est une t...   \n",
       "4    3D Modeling Program   Logiciel de modélisation 3D pour l'Impression...   \n",
       "..                   ...                                                ...   \n",
       "91       Thermoplastique               Thermoplastique pour l'impression 3D   \n",
       "92        Triple Jetting   Triple Jetting: Technologie d'impression 3D P...   \n",
       "93               Usinage   Usinage : technique de fabrication par retrai...   \n",
       "94  Vitesse d’impression                            Vitesse d'impression 3D   \n",
       "95   Volume d’impression   Volume d'impression 3D, Le volume d’impressio...   \n",
       "\n",
       "                                               part02  \n",
       "0   Le 3D bioprinting est l’impression de tissus e...  \n",
       "1    Un fichier 3D est un fichier électronique rep...  \n",
       "2    Le modèle 3D d’un objet est sa représentation...  \n",
       "3   Modélisation polygonale Curve modeling Sculptu...  \n",
       "4    Inventor,Alias, Solidworks,Si vous travaillez...  \n",
       "..                                                ...  \n",
       "91  Le thermoplastique est un polymère qui se ramo...  \n",
       "92   Triple injection (Polyjet) La triple injectio...  \n",
       "93  L’usinage regroupe un grand nombre de techniqu...  \n",
       "94   La vitesse d’impression 3D correspond à la ha...  \n",
       "95   300 x 300 x 500 mm,Céramique,Taille maximum,3...  \n",
       "\n",
       "[96 rows x 3 columns]"
      ]
     },
     "execution_count": 12,
     "metadata": {},
     "output_type": "execute_result"
    }
   ],
   "source": [
    "df_text = pd.DataFrame(text_dict)\n",
    "df_word = pd.DataFrame(words)\n",
    "frames = [df_word, df_text]\n",
    "df = pd.concat(frames, axis=1, sort=False)\n",
    "df"
   ]
  }
 ],
 "metadata": {
  "kernelspec": {
   "display_name": "Python 3",
   "language": "python",
   "name": "python3"
  },
  "language_info": {
   "codemirror_mode": {
    "name": "ipython",
    "version": 3
   },
   "file_extension": ".py",
   "mimetype": "text/x-python",
   "name": "python",
   "nbconvert_exporter": "python",
   "pygments_lexer": "ipython3",
   "version": "3.8.5"
  }
 },
 "nbformat": 4,
 "nbformat_minor": 4
}
